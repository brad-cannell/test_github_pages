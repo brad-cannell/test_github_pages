{
  "cells": [
    {
      "cell_type": "raw",
      "metadata": {},
      "source": [
        "---\n",
        "title: \"My Questions\"\n",
        "author: \"Brad Cannell\"\n",
        "format:\n",
        "  html: \n",
        "    self-contained: true\n",
        "output-file: \"docs/my_questions.html\"\n",
        "editor: visual\n",
        "---"
      ],
      "id": "dc20e843"
    },
    {
      "cell_type": "markdown",
      "metadata": {},
      "source": [
        "The home page (index.Rmd) and the about page (about.Rmd) were automatically created with this project. This page was created by me.\n",
        "\n",
        "I'm just using this test site to experiment with a few things and try to answer a couple of questions I have.\n",
        "\n",
        "1.  Can I use Quarto documents interchangeably with Rmarkdown documents in this context?\n",
        "2.  Can I do something to control with documents get rendered for the website and which do not. This is important because I don't always want to create an entire repository for a website. Sometimes, I just want to render a couple of individual markdown documents from a research project repository to the web via GitHub pages for sharing. But not every document.\n",
        "3.  Can I create subdirectories?\n",
        "\n",
        "## Using Quarto documents\n",
        "\n",
        "So, I can't exactly use Quarto documents interchangeably with Rmd documents. At least not right out of the box. I created this page in Quarto, but just clicking the \"Build Website\" button in RStudio did not render an html document to the docs folder.\n",
        "\n",
        "Following the guidance here to see if I can figure out what to do: https://quarto.org/docs/publishing/github-pages.html\n",
        "\n",
        "The site above wasn't actually all that helpful. However, I think adding\n",
        "\n",
        "\n",
        "```{verbatim}\n",
        "format:\n",
        "  html: \n",
        "    self-contained: true\n",
        "```\n",
        "\n",
        "\n",
        "``` yaml\n",
        "format:\n",
        "  html: \n",
        "    self-contained: true\n",
        "```\n",
        "\n",
        "to the yaml header was helpful. Now, when I render the site, only the html document is created. Not the folder with all the other files.\n",
        "\n",
        "Additionally, I can move the individual html files over to the `doc/` folder manually. However, you don't just have to do this once. You have to do it every time you render the file. I wonder if there is a yaml header I can use to tell Quarto where to put the rendered html file? If so, then I can automatically render to `docs/`.\n",
        "\n",
        "Yes, from: https://quarto.org/docs/reference/formats/html.html\n",
        "\n",
        "\n",
        "```{verbatim}\n",
        "output-file: \"docs/my_questions\"\n",
        "```\n",
        "\n",
        "\n",
        "``` yaml\n",
        "output-file: \"docs/my_questions\"\n",
        "```"
      ],
      "id": "1e3f1abb"
    }
  ],
  "metadata": {
    "kernelspec": {
      "display_name": "Python 3",
      "language": "python",
      "name": "python3"
    }
  },
  "nbformat": 4,
  "nbformat_minor": 5
}